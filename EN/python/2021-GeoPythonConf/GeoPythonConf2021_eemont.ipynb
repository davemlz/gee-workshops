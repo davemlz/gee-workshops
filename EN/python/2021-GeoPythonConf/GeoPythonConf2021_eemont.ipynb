{
  "nbformat": 4,
  "nbformat_minor": 0,
  "metadata": {
    "colab": {
      "name": "GeoPythonConf2021-eemont.ipynb",
      "provenance": []
    },
    "kernelspec": {
      "name": "python3",
      "display_name": "Python 3"
    },
    "language_info": {
      "name": "python"
    }
  },
  "cells": [
    {
      "cell_type": "markdown",
      "metadata": {
        "id": "FUiujfuEi5XU"
      },
      "source": [
        "# GeoPythonConf2021\n",
        "\n",
        "## eemont: A Python package that extends Google Earth Engine.\n",
        "### David Montero Loaiza"
      ]
    },
    {
      "cell_type": "markdown",
      "metadata": {
        "id": "_IKtpGX1jD26"
      },
      "source": [
        "#### How things work in the GEE Python API?\n",
        "\n",
        "Import the Landsat 8 SR product:"
      ]
    },
    {
      "cell_type": "code",
      "metadata": {
        "id": "Xa-tHJ5DO64T"
      },
      "source": [
        "import ee\n",
        "\n",
        "ee.Authenticate()\n",
        "ee.Initialize()\n",
        "\n",
        "L8 = ee.ImageCollection('LANDSAT/LC08/C01/T1_SR')"
      ],
      "execution_count": null,
      "outputs": []
    },
    {
      "cell_type": "markdown",
      "metadata": {
        "id": "RnalkrUwjSFk"
      },
      "source": [
        "Define a cloud mask function to map it over the collection:"
      ]
    },
    {
      "cell_type": "code",
      "metadata": {
        "id": "UQ4PMn4DPVD9"
      },
      "source": [
        "import ee\n",
        "\n",
        "ee.Authenticate()\n",
        "ee.Initialize()\n",
        "\n",
        "def maskClouds(image):\n",
        "  cloudShadowBitMask = (1 << 3)\n",
        "  cloudsBitMask = (1 << 5)\n",
        "  qa = image.select('pixel_qa')\n",
        "  mask = qa.bitwiseAnd(cloudShadowBitMask).eq(0).And(qa.bitwiseAnd(cloudsBitMask).eq(0))\n",
        "  return image.updateMask(mask)\n",
        "\n",
        "L8 = (ee.ImageCollection('LANDSAT/LC08/C01/T1_SR')\n",
        "      .map(maskClouds())"
      ],
      "execution_count": null,
      "outputs": []
    },
    {
      "cell_type": "markdown",
      "metadata": {
        "id": "dumYtiYBjWca"
      },
      "source": [
        "If you want to scale the collection, you also have to define a function for that:"
      ]
    },
    {
      "cell_type": "code",
      "metadata": {
        "id": "ybD-TpSHPt8K"
      },
      "source": [
        "import ee\n",
        "\n",
        "ee.Authenticate()\n",
        "ee.Initialize()\n",
        "\n",
        "def maskClouds(image):\n",
        "  cloudShadowBitMask = (1 << 3)\n",
        "  cloudsBitMask = (1 << 5)\n",
        "  qa = image.select('pixel_qa')\n",
        "  mask = qa.bitwiseAnd(cloudShadowBitMask).eq(0).And(qa.bitwiseAnd(cloudsBitMask).eq(0))\n",
        "  return image.updateMask(mask)\n",
        "\n",
        "def scaleImage(image):\n",
        "  scaled = image.select('B[1-7]').multiply(0.0001)\n",
        "  scaled = scaled.addBands(image.select(['B10','B11']).multiply(0.1))\n",
        "  scaled = scaled.addBands(image.select(['sr_aerosol','pixel_qa','radsat_qa']))\n",
        "  return scaled.copyProperties(image,image.propertyNames())\n",
        "\n",
        "L8 = (ee.ImageCollection('LANDSAT/LC08/C01/T1_SR')\n",
        "      .map(maskClouds)\n",
        "      .map(scaleImage))"
      ],
      "execution_count": null,
      "outputs": []
    },
    {
      "cell_type": "markdown",
      "metadata": {
        "id": "VDNNcUWYjcC3"
      },
      "source": [
        "What if you want to compute some Spectral Indices? Well..."
      ]
    },
    {
      "cell_type": "code",
      "metadata": {
        "id": "mwPE5OZiQfLT"
      },
      "source": [
        "import ee\n",
        "\n",
        "ee.Authenticate()\n",
        "ee.Initialize()\n",
        "\n",
        "def maskClouds(image):\n",
        "  cloudShadowBitMask = (1 << 3)\n",
        "  cloudsBitMask = (1 << 5)\n",
        "  qa = image.select('pixel_qa')\n",
        "  mask = qa.bitwiseAnd(cloudShadowBitMask).eq(0).And(qa.bitwiseAnd(cloudsBitMask).eq(0))\n",
        "  return image.updateMask(mask)\n",
        "\n",
        "def scaleImage(image):\n",
        "  scaled = image.select('B[1-7]').multiply(0.0001)\n",
        "  scaled = scaled.addBands(image.select(['B10','B11']).multiply(0.1))\n",
        "  scaled = scaled.addBands(image.select(['sr_aerosol','pixel_qa','radsat_qa']))\n",
        "  return scaled.copyProperties(image,image.propertyNames())\n",
        "\n",
        "def addIndices(image):\n",
        "  NDVI = image.normalizedDifference(['B5','B4']).rename('NDVI')\n",
        "  EVI = image.expression('2.5 * (b(\"B5\") - b(\"B4\")) / (b(\"B5\") + 6.0 * b(\"B4\") - 7.5 * b(\"B2\") + 1.0)').rename('EVI')\n",
        "  GNDVI = image.normalizedDifference(['B5','B3']).rename('GNDVI')\n",
        "  return image.addBands([NDVI,EVI,GNDVI])\n",
        "\n",
        "L8 = (ee.ImageCollection('LANDSAT/LC08/C01/T1_SR')\n",
        "      .map(maskClouds)\n",
        "      .map(scale)\n",
        "      .map(addIndices))"
      ],
      "execution_count": null,
      "outputs": []
    },
    {
      "cell_type": "markdown",
      "metadata": {
        "id": "d-cyN-k7jjCj"
      },
      "source": [
        "#### How things work with eemont?\n",
        "\n",
        "Well, you just need 9 lines of code to do the exact same previous processing!"
      ]
    },
    {
      "cell_type": "code",
      "metadata": {
        "id": "eeGRB_T1emkw"
      },
      "source": [
        "import ee, eemont\n",
        "\n",
        "ee.Authenticate()\n",
        "ee.Initialize()\n",
        "\n",
        "L8 = (ee.ImageCollection('LANDSAT/LC08/C01/T1_SR')\n",
        "      .maskClouds()\n",
        "      .scale()\n",
        "      .index(['NDVI','EVI','GNDVI']))"
      ],
      "execution_count": null,
      "outputs": []
    },
    {
      "cell_type": "markdown",
      "metadata": {
        "id": "mDXV4nFvjvWI"
      },
      "source": [
        "#### Features:\n",
        "\n",
        "- Closest image to a specific date:"
      ]
    },
    {
      "cell_type": "code",
      "metadata": {
        "id": "Nb4iCMEI9l0l"
      },
      "source": [
        "import ee, eemont\n",
        "\n",
        "ee.Authenticate()\n",
        "ee.Initialize()\n",
        "\n",
        "poi = ee.Geometry.Point([-76.4,3.21])\n",
        "\n",
        "L8 = (ee.ImageCollection('LANDSAT/LC08/C01/T1_SR')\n",
        "      .filterBounds(poi)\n",
        "      .closest('2021-10-15'))"
      ],
      "execution_count": null,
      "outputs": []
    },
    {
      "cell_type": "markdown",
      "metadata": {
        "id": "4cecKpkkj0U_"
      },
      "source": [
        "- Masking clouds and shadows:"
      ]
    },
    {
      "cell_type": "code",
      "metadata": {
        "id": "9fi94OM6_S4I"
      },
      "source": [
        "import ee, eemont\n",
        "\n",
        "ee.Authenticate()\n",
        "ee.Initialize()\n",
        "\n",
        "poi = ee.Geometry.Point([-76.4,3.21])\n",
        "\n",
        "L8 = (ee.ImageCollection('COPERNICUS/S2_SR')\n",
        "      .filterBounds(poi)\n",
        "      .maskClouds(prob = 60,\n",
        "                  maskCirrus = False,\n",
        "                  buffer = 300,\n",
        "                  cdi = -0.5))"
      ],
      "execution_count": null,
      "outputs": []
    },
    {
      "cell_type": "markdown",
      "metadata": {
        "id": "UE4Ck6Z5j3tm"
      },
      "source": [
        "- Scaling and offsetting:"
      ]
    },
    {
      "cell_type": "code",
      "metadata": {
        "id": "aWxwU472AFoO"
      },
      "source": [
        "import ee, eemont\n",
        "\n",
        "ee.Authenticate()\n",
        "ee.Initialize()\n",
        "\n",
        "poi = ee.Geometry.Point([-76.4,3.21])\n",
        "\n",
        "L8 = (ee.ImageCollection('MODIS/006/MOD11A2')\n",
        "      .filterBounds(poi)\n",
        "      .scale())"
      ],
      "execution_count": null,
      "outputs": []
    },
    {
      "cell_type": "markdown",
      "metadata": {
        "id": "vAHzA_EOj6x8"
      },
      "source": [
        "- Computing Spectral Indices:"
      ]
    },
    {
      "cell_type": "code",
      "metadata": {
        "id": "eP31cq1dBnkH"
      },
      "source": [
        "import ee, eemont\n",
        "\n",
        "ee.Authenticate()\n",
        "ee.Initialize()\n",
        "\n",
        "poi = ee.Geometry.Point([-76.4,3.21])\n",
        "\n",
        "L8 = (ee.ImageCollection('MODIS/006/MOD09GQ')\n",
        "      .filterBounds(poi)\n",
        "      .scale()\n",
        "      .index(['NDVI','EVI2','kNDVI']))"
      ],
      "execution_count": null,
      "outputs": []
    },
    {
      "cell_type": "markdown",
      "metadata": {
        "id": "xSOxDa3Nj9Kr"
      },
      "source": [
        "- Time series by region or regions:"
      ]
    },
    {
      "cell_type": "code",
      "metadata": {
        "id": "ftb-8g_eDV31"
      },
      "source": [
        "import ee, eemont\n",
        "\n",
        "ee.Authenticate()\n",
        "ee.Initialize()\n",
        "\n",
        "pivots = ee.FeatureCollection([\n",
        "    ee.Feature(ee.Geometry.Point([27.724856,26.485040]).buffer(400),{'pivot':0}),\n",
        "    ee.Feature(ee.Geometry.Point([27.719427,26.478505]).buffer(400),{'pivot':1}),\n",
        "    ee.Feature(ee.Geometry.Point([27.714185,26.471802]).buffer(400),{'pivot':2})    \n",
        "])\n",
        "\n",
        "L8 = (ee.ImageCollection('LANDSAT/LC08/C01/T1_SR')\n",
        "      .filterBounds(pivots)\n",
        "      .maskClouds()\n",
        "      .scale()\n",
        "      .index(['EVI','GNDVI']))\n",
        "\n",
        "ts = L8.getTimeSeriesByRegions(collection = pivots,\n",
        "                               bands = ['EVI','GNDVI'],\n",
        "                               reducer = [ee.Reducer.mean(),ee.Reducer.median()],\n",
        "                               scale = 30)"
      ],
      "execution_count": null,
      "outputs": []
    },
    {
      "cell_type": "markdown",
      "metadata": {
        "id": "_qfSdz-AkCpY"
      },
      "source": [
        "- Overloaded operators:"
      ]
    },
    {
      "cell_type": "code",
      "metadata": {
        "id": "nh9QjHwzI001"
      },
      "source": [
        "import ee, eemont\n",
        "\n",
        "ee.Authenticate()\n",
        "ee.Initialize()\n",
        "\n",
        "point = ee.Geometry.Point([-76.0269,2.92846])\n",
        "\n",
        "S2 = (ee.ImageCollection('COPERNICUS/S2_SR')\n",
        "      .filterBounds(point)\n",
        "      .sort('CLOUDY_PIXEL_PERCENTAGE')\n",
        "      .first()\n",
        "      .maskClouds()\n",
        "      .scale()\n",
        "      .index('NDSI'))\n",
        "\n",
        "NDSI = S2.select('NDSI')\n",
        "N = S2.select('B8')\n",
        "G = S2.select('B3')\n",
        "\n",
        "snowPixels = (NDSI > 0.4) & (N >= 0.1) & (G > 0.11)"
      ],
      "execution_count": null,
      "outputs": []
    },
    {
      "cell_type": "markdown",
      "metadata": {
        "id": "Vnp1T9ABkFW3"
      },
      "source": [
        "- Constructors by queries (geocoding):"
      ]
    },
    {
      "cell_type": "code",
      "metadata": {
        "id": "JMvEHEsFJaGF"
      },
      "source": [
        "import ee, eemont\n",
        "\n",
        "ee.Authenticate()\n",
        "ee.Initialize()\n",
        "\n",
        "user_agent = 'eemont-geopythonconf-2021'\n",
        "\n",
        "point = ee.Geometry.PointFromQuery('Cali, Colombia',user_agent = user_agent)\n",
        "bbox = ee.Feature.BBoxFromQuery('Germany',user_agent = user_agent)\n",
        "multipoint = ee.FeatureCollection.MultiPointFromQuery('Amazonas',user_agent = user_agent)"
      ],
      "execution_count": null,
      "outputs": []
    }
  ]
}