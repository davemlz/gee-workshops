{
 "cells": [
  {
   "cell_type": "markdown",
   "id": "2c1f4e81",
   "metadata": {},
   "source": [
    "# Mapping Water Bodies in Leipzig"
   ]
  },
  {
   "cell_type": "markdown",
   "id": "87353f8b",
   "metadata": {},
   "source": [
    "## Importing our modules\n",
    "\n",
    "Python works with modules, `ee` is the Earth Engine API module, while `eemont` extends this API for a cleaner code-writing and `geemap` allows to plot Earth Engine results interactively."
   ]
  },
  {
   "cell_type": "code",
   "execution_count": 3,
   "id": "fe940029",
   "metadata": {},
   "outputs": [],
   "source": [
    "import ee # Google Earth Engine API\n",
    "import eemont # Extended GEE API\n",
    "import geemap # Interactive Mapping with GEE\n",
    "from geemap import colormaps as cm # Color Palettes"
   ]
  },
  {
   "cell_type": "markdown",
   "id": "313a7022",
   "metadata": {},
   "source": [
    "## Authentication\n",
    "\n",
    "We need to authenticate to use Google Earth Engine, if this is your first time, please sign up [here](https://earthengine.google.com/)."
   ]
  },
  {
   "cell_type": "code",
   "execution_count": 5,
   "id": "e58a966b",
   "metadata": {},
   "outputs": [],
   "source": [
    "# ee.Authenticate()\n",
    "ee.Initialize() # Handles log-in for GEE"
   ]
  },
  {
   "cell_type": "markdown",
   "id": "5763c06d",
   "metadata": {},
   "source": [
    "## Vector Data\n",
    "\n",
    "Since we need the polygon for Leipzig, we have to load it from somewhere. Google Earth Engine stores vector data in three ways:\n",
    "\n",
    "- ee.Geometry -> Imagine a shapefile with no attributes, just the geometry.\n",
    "- ee.Feature -> A geometry with attributes.\n",
    "- ee.FeatureCollection -> A full shapefile: Bunch of geometries and their attributes.\n",
    "\n",
    "GEE has the Administrative Units of FAO GAUL stored in its catalog, so, let's use them!\n",
    "\n",
    "The path to this dataset is \"FAO/GAUL/2015/level2\" and it's public!"
   ]
  },
  {
   "cell_type": "code",
   "execution_count": 6,
   "id": "c3cbef52",
   "metadata": {},
   "outputs": [],
   "source": [
    "FAO_GAUL = ee.FeatureCollection(\"FAO/GAUL/2015/level2\") # Level 2 of Administrative Units (Vector)\n",
    "LEIPZIG = FAO_GAUL.filter(\"ADM2_NAME == 'Leipzig'\") # Filter to get the Adm. Region of Leipzig"
   ]
  },
  {
   "cell_type": "markdown",
   "id": "5269d950",
   "metadata": {},
   "source": [
    "To plot the Leipzig polygon, let's use `geemap`:"
   ]
  },
  {
   "cell_type": "code",
   "execution_count": 9,
   "id": "80ab1ef7",
   "metadata": {},
   "outputs": [
    {
     "data": {
      "application/vnd.jupyter.widget-view+json": {
       "model_id": "6898c53b9751405f88c522948f1e97d6",
       "version_major": 2,
       "version_minor": 0
      },
      "text/plain": [
       "Map(center=[51.33712271360983, 12.682928568324028], controls=(WidgetControl(options=['position', 'transparent_…"
      ]
     },
     "metadata": {},
     "output_type": "display_data"
    }
   ],
   "source": [
    "Map = geemap.Map() # Initialize an empty interactive Map\n",
    "Map.addLayer(LEIPZIG,{},\"Leipzig\") # Add the Leipzig polygon to the map\n",
    "Map.centerObject(LEIPZIG,8) # Center the map on Leipzig\n",
    "Map # Plot the map"
   ]
  },
  {
   "cell_type": "markdown",
   "id": "f00fb572",
   "metadata": {},
   "source": [
    "## Processing Sentinel-2 Data\n",
    "\n",
    "Now, we need the images of Sentinel-2 to extract our water bodies. Google Earth Engine stores raster data in two ways:\n",
    "\n",
    "- ee.Image -> A single image with its properties. Images can have multiple bands!\n",
    "- ee.ImageCollection -> A bunch of images. They don't need to be from the same sensor!\n",
    "\n",
    "GEE has the complete dataset of Sentinel-2 images for the whole world! And they keep updating it as soon as new images arrive!\n",
    "\n",
    "The path to this dataset is \"COPERNICUS/S2_SR\" (if we want the ARD)!"
   ]
  },
  {
   "cell_type": "code",
   "execution_count": 10,
   "id": "5d8176fb",
   "metadata": {},
   "outputs": [],
   "source": [
    "S2 = (ee.ImageCollection(\"COPERNICUS/S2_SR\") # Sentinel-2 Surface Reflectance Collection (Raster)\n",
    "      .filterBounds(LEIPZIG) # Filter the collection (just images that intersect Saxony)\n",
    "      .filterDate(\"2021-06-01\",\"2021-07-01\") # Filter the collection -again- (just images in June 2021)      \n",
    "      .median() # Composite (create a single median image from all images in the collection)\n",
    "      .clip(LEIPZIG)) # Clip the composite to the Saxony boundaries"
   ]
  },
  {
   "cell_type": "markdown",
   "id": "acba9147",
   "metadata": {},
   "source": [
    "Now that we have filtered the collection, cerated a median composite and clipped it to the Leipzig boundaries, we want to plot it!\n",
    "\n",
    "But We need to create some visualization parameters before that!"
   ]
  },
  {
   "cell_type": "code",
   "execution_count": 11,
   "id": "dea1112a",
   "metadata": {},
   "outputs": [],
   "source": [
    "# For raster objects we need to define some visualization parameters\n",
    "visualization = {\n",
    "    \"min\": 0, # The minimum value for stretching the histogram\n",
    "    \"max\": 3000, # The maximum value for stretching the histogram\n",
    "    \"bands\": [\"B4\",\"B3\",\"B2\"] # The band combination (3-bands or single-band, 3-bands in this case)\n",
    "}"
   ]
  },
  {
   "cell_type": "markdown",
   "id": "c5999827",
   "metadata": {},
   "source": [
    "Now, we can plot it!"
   ]
  },
  {
   "cell_type": "code",
   "execution_count": 12,
   "id": "8e520d80",
   "metadata": {},
   "outputs": [
    {
     "data": {
      "application/vnd.jupyter.widget-view+json": {
       "model_id": "ee73ec35ba9b4b30bd3b2a85cd20452e",
       "version_major": 2,
       "version_minor": 0
      },
      "text/plain": [
       "Map(center=[51.33712271360983, 12.682928568324028], controls=(WidgetControl(options=['position', 'transparent_…"
      ]
     },
     "metadata": {},
     "output_type": "display_data"
    }
   ],
   "source": [
    "Map = geemap.Map() # Initialize an empty map\n",
    "Map.addLayer(S2,visualization,\"S2 RGB\") # Add the image to the map using the visualization parameters\n",
    "Map.centerObject(LEIPZIG,8) # Center the map on Leipzig\n",
    "Map # Plot the map"
   ]
  },
  {
   "cell_type": "markdown",
   "id": "75349965",
   "metadata": {},
   "source": [
    "## Ups! We forgot something important...\n",
    "\n",
    "We have to mask the clouds and cloud-shadows! And it would be nice to scale the reflectance values to [0,1]."
   ]
  },
  {
   "cell_type": "code",
   "execution_count": 13,
   "id": "41acf4fc",
   "metadata": {},
   "outputs": [],
   "source": [
    "S2 = (ee.ImageCollection(\"COPERNICUS/S2_SR\") # Sentinel-2 Surface Refelctance Collection\n",
    "      .filterBounds(LEIPZIG) # Filter the collection (just images that intersect Saxony)\n",
    "      .filterDate(\"2021-06-01\",\"2021-07-01\") # Filter the collection -again- (just images in June 2021)\n",
    "      # ------- NEW LINE BELOW -------- #\n",
    "      .preprocess() # Mask clouds, cloud-shadows and scale and offset each image\n",
    "      # ------- END OF NEW LINE ------- #\n",
    "      .median() # Composite (create a single median image from all images in the collection)\n",
    "      .clip(LEIPZIG)) # Clip the composite to the Saxony boundaries"
   ]
  },
  {
   "cell_type": "markdown",
   "id": "2127712b",
   "metadata": {},
   "source": [
    "Let's define again our visualization parameters!"
   ]
  },
  {
   "cell_type": "code",
   "execution_count": 14,
   "id": "2abe824f",
   "metadata": {},
   "outputs": [],
   "source": [
    "visualization = {\n",
    "    \"min\": 0, # The minimum value\n",
    "    \"max\": 0.3, # The maximum value (note the scale is different)\n",
    "    \"bands\": [\"B4\",\"B3\",\"B2\"] # The band combination\n",
    "}"
   ]
  },
  {
   "cell_type": "markdown",
   "id": "9fafeb8b",
   "metadata": {},
   "source": [
    "And let's plot the result!"
   ]
  },
  {
   "cell_type": "code",
   "execution_count": 15,
   "id": "7e56db8a",
   "metadata": {},
   "outputs": [
    {
     "data": {
      "application/vnd.jupyter.widget-view+json": {
       "model_id": "82c22c35f6fa4bba8c2f528ae772c02c",
       "version_major": 2,
       "version_minor": 0
      },
      "text/plain": [
       "Map(center=[51.33712271360983, 12.682928568324028], controls=(WidgetControl(options=['position', 'transparent_…"
      ]
     },
     "metadata": {},
     "output_type": "display_data"
    }
   ],
   "source": [
    "Map = geemap.Map() # Initialize an empty map\n",
    "Map.addLayer(S2,visualization,\"S2 RGB\") # Add the image to the map using the visualization parameters\n",
    "Map.centerObject(LEIPZIG,8) # Center the map on Leipzig\n",
    "Map # Plot the map"
   ]
  },
  {
   "cell_type": "markdown",
   "id": "24df7a0d",
   "metadata": {},
   "source": [
    "## And the Water?\n",
    "\n",
    "There is a simple way to know if a pixel is water or not: Using band math!\n",
    "\n",
    "- \"Band math?\"\n",
    "- \"Yes! We compute new images by combining single bands!\"\n",
    "\n",
    "There are some combinations useful for detecting and monitoring vegetation, urban zones, and water! The Normalized Difference Water Index (NDWI) is computed as a normalized difference between the GREEN and the NIR bands (`NDWI = (G-N)/(G+N)`) of an image. This index moves between -1 and 1. The more close to 1, the better indicator of a presence of water.\n",
    "\n",
    "Let's compute the NDWI to extract water!"
   ]
  },
  {
   "cell_type": "code",
   "execution_count": 16,
   "id": "3dfc4dd1",
   "metadata": {},
   "outputs": [],
   "source": [
    "S2 = (ee.ImageCollection(\"COPERNICUS/S2_SR\") # Sentinel-2 Surface Refelctance Collection\n",
    "      .filterBounds(LEIPZIG) # Filter the collection (just images that intersect Saxony)\n",
    "      .filterDate(\"2021-06-01\",\"2021-07-01\") # Filter the collection -again- (just images in June 2021)\n",
    "      .preprocess() # Mask clouds, cloud-shadows and scale and offset each image\n",
    "      # ------- NEW LINE BELOW -------- #\n",
    "      .spectralIndices(\"NDWI\") # Compute the Normalized Difference Water Index\n",
    "      # ------- END OF NEW LINE ------- #\n",
    "      .median() # Composite (create a single median image from all images in the collection)\n",
    "      .clip(LEIPZIG)) # Clip the composite to the Saxony boundaries"
   ]
  },
  {
   "cell_type": "markdown",
   "id": "c96245a0",
   "metadata": {},
   "source": [
    "Let's define our visualization parameters for the NDWI."
   ]
  },
  {
   "cell_type": "code",
   "execution_count": 17,
   "id": "3141d122",
   "metadata": {},
   "outputs": [],
   "source": [
    "visualization = {\n",
    "    \"min\": 0, # Minimum value\n",
    "    \"max\": 1, # Maximum value\n",
    "    \"palette\": cm.palettes.ndwi, # Color palette\n",
    "    \"bands\": \"NDWI\" # The band combination (in this case a single band)\n",
    "}"
   ]
  },
  {
   "cell_type": "markdown",
   "id": "b1d4ba42",
   "metadata": {},
   "source": [
    "And let's plot it!"
   ]
  },
  {
   "cell_type": "code",
   "execution_count": 18,
   "id": "e9c46fb4",
   "metadata": {},
   "outputs": [
    {
     "data": {
      "application/vnd.jupyter.widget-view+json": {
       "model_id": "d439aa5add2f4e11b6ca8adea84767e3",
       "version_major": 2,
       "version_minor": 0
      },
      "text/plain": [
       "Map(center=[51.33712271360983, 12.682928568324028], controls=(WidgetControl(options=['position', 'transparent_…"
      ]
     },
     "metadata": {},
     "output_type": "display_data"
    }
   ],
   "source": [
    "Map = geemap.Map() # Initialize an empty map\n",
    "Map.addLayer(S2,visualization,\"NDWI\") # Add the NDWI to the map\n",
    "Map.centerObject(LEIPZIG,8) # Center the map on Leipzig\n",
    "Map # Plot the map"
   ]
  },
  {
   "cell_type": "markdown",
   "id": "cc60bee2",
   "metadata": {},
   "source": [
    "## Finally, the Water Bodies!\n",
    "\n",
    "If we set a threshold on the NDWI, we can decide what is water and what is not water. the most common threshold is zero. NDWI values greater than zero are considered water pixels."
   ]
  },
  {
   "cell_type": "code",
   "execution_count": 19,
   "id": "85f4ec30",
   "metadata": {},
   "outputs": [],
   "source": [
    "WATER = S2[\"NDWI\"] > 0 # All pixels where NDWI is greater than zero are considered water pixels"
   ]
  },
  {
   "cell_type": "markdown",
   "id": "a2f677dc",
   "metadata": {},
   "source": [
    "This logical operation gives us an image with two values: 0 and 1. 0 is not water. 1 is water. Let's define our visualization parameters to see the result!"
   ]
  },
  {
   "cell_type": "code",
   "execution_count": 20,
   "id": "49a051ea",
   "metadata": {},
   "outputs": [],
   "source": [
    "visualization = {\n",
    "    \"min\": 0, # Minimum value\n",
    "    \"max\": 1, # Maximum value\n",
    "    \"palette\": cm.palettes.ndwi # Color palette\n",
    "}"
   ]
  },
  {
   "cell_type": "markdown",
   "id": "d65e262f",
   "metadata": {},
   "source": [
    "Let's plot it!"
   ]
  },
  {
   "cell_type": "code",
   "execution_count": 21,
   "id": "51c58c34",
   "metadata": {},
   "outputs": [
    {
     "data": {
      "application/vnd.jupyter.widget-view+json": {
       "model_id": "28a9bf4ee83d4c0db7e91ae5fb8b1e9a",
       "version_major": 2,
       "version_minor": 0
      },
      "text/plain": [
       "Map(center=[51.33712271360983, 12.682928568324028], controls=(WidgetControl(options=['position', 'transparent_…"
      ]
     },
     "metadata": {},
     "output_type": "display_data"
    }
   ],
   "source": [
    "Map = geemap.Map() # Initialize an empty map\n",
    "Map.addLayer(WATER,visualization,\"Water Bodies\") # Add water bodies to the map\n",
    "Map.centerObject(LEIPZIG,8) # Center map on Leipzig\n",
    "Map # Plot the map"
   ]
  },
  {
   "cell_type": "markdown",
   "id": "c7c0f18c",
   "metadata": {},
   "source": [
    "## I want to make a map in QGIS with this result!\n",
    "\n",
    "Well, there are two options to do this. The first one is \"downloading\" the image. GEE allows you to export the result to your Drive account, that you can download later."
   ]
  },
  {
   "cell_type": "code",
   "execution_count": 22,
   "id": "ce765349",
   "metadata": {},
   "outputs": [],
   "source": [
    "task = ee.batch.Export.image.toDrive(image = WATER,\n",
    "                                     description = \"Water_bodies_Leipzig\",\n",
    "                                     region = LEIPZIG.geometry(),\n",
    "                                     scale = 10,\n",
    "                                     maxPixels = 1e12)\n",
    "\n",
    "task.start()"
   ]
  },
  {
   "cell_type": "markdown",
   "id": "5a3735f6",
   "metadata": {},
   "source": [
    "Here you can check the status of this exporting task:"
   ]
  },
  {
   "cell_type": "code",
   "execution_count": 25,
   "id": "0c002d46",
   "metadata": {},
   "outputs": [
    {
     "data": {
      "text/plain": [
       "{'state': 'READY',\n",
       " 'description': 'Water_bodies_Leipzig',\n",
       " 'creation_timestamp_ms': 1625743777932,\n",
       " 'update_timestamp_ms': 1625743777932,\n",
       " 'start_timestamp_ms': 0,\n",
       " 'task_type': 'EXPORT_IMAGE',\n",
       " 'id': 'CMOQM7MHB3HU6AOPXMQNJQVN',\n",
       " 'name': 'projects/earthengine-legacy/operations/CMOQM7MHB3HU6AOPXMQNJQVN'}"
      ]
     },
     "execution_count": 25,
     "metadata": {},
     "output_type": "execute_result"
    }
   ],
   "source": [
    "task.status()"
   ]
  },
  {
   "cell_type": "markdown",
   "id": "7730adb8",
   "metadata": {},
   "source": [
    "The second option is to WORK WITH GOOGLE EARTH ENGINE INSIDE QGIS!\n",
    "\n",
    "- \"Wait, is that possible?\"\n",
    "\n",
    "Yes, it is! You just need to install the [GEE Plugin for QGIS](https://gee-community.github.io/qgis-earthengine-plugin/) and [install eemont in QGIS](https://eemont.readthedocs.io/en/latest/guide/eemontR.html). There is no need to install `geemap` in QGIS since all visualization are done using the QGIS visualization schema!"
   ]
  }
 ],
 "metadata": {
  "kernelspec": {
   "display_name": "Python 3",
   "language": "python",
   "name": "python3"
  },
  "language_info": {
   "codemirror_mode": {
    "name": "ipython",
    "version": 3
   },
   "file_extension": ".py",
   "mimetype": "text/x-python",
   "name": "python",
   "nbconvert_exporter": "python",
   "pygments_lexer": "ipython3",
   "version": "3.9.5"
  }
 },
 "nbformat": 4,
 "nbformat_minor": 5
}
